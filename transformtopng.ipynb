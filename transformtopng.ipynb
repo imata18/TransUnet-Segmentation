{
 "cells": [
  {
   "cell_type": "code",
   "execution_count": 2,
   "metadata": {},
   "outputs": [],
   "source": [
    "import matplotlib\n",
    "\n",
    "matplotlib.use('TkAgg')\n",
    "import nibabel as nib\n",
    "import numpy as np\n",
    "\n",
    "import os\n",
    "import imageio"
   ]
  },
  {
   "cell_type": "code",
   "execution_count": 5,
   "metadata": {},
   "outputs": [
    {
     "name": "stdout",
     "output_type": "stream",
     "text": [
      "第0个nii文件转换完成！\n"
     ]
    }
   ],
   "source": [
    "# ---------------------------------------------#\n",
    "# nii_path : nii文件的路径\n",
    "# img_save_path : 切片的保存路径\n",
    "# axis : 说明是沿着哪个方向切片的\n",
    "# ---------------------------------------------\n",
    "def nii_to_png(nii_path, img_save_path, axis):\n",
    "    # 若保存路径不存在，则创建\n",
    "    if not os.path.exists(img_save_path):\n",
    "        os.makedirs(img_save_path)\n",
    "\n",
    "    nii = nib.load(nii_path)\n",
    "    nii_fdata = nii.get_fdata()\n",
    "    nii_fdata = np.rot90(nii_fdata)\n",
    "\n",
    "    # 以切片的轴向作为保存png的子文件夹名\n",
    "    # foldername = axis\n",
    "    png_save_path = img_save_path\n",
    "\n",
    "    if not os.path.exists(png_save_path):\n",
    "        os.mkdir(png_save_path)\n",
    "\n",
    "    flag = 100\n",
    "    if axis == 'x':\n",
    "        (axis, y, z) = nii.shape\n",
    "        flag = 0\n",
    "    elif axis == 'y':\n",
    "        (x, axis, z) = nii.shape\n",
    "        flag = 1\n",
    "    elif axis == 'z':\n",
    "        (x, y, axis) = nii.shape\n",
    "        flag = 2\n",
    "    else:\n",
    "        print(\"wrong axis\")\n",
    "\n",
    "    for i in range(axis):\n",
    "        if flag == 0:\n",
    "            slice = nii_fdata[i, :, :]\n",
    "        elif flag == 1:\n",
    "            slice = nii_fdata[:, i, :]\n",
    "        elif flag == 2:\n",
    "            slice = nii_fdata[:, :, i]\n",
    "        # 以数字1,2,3...为png图片命名\n",
    "\n",
    "        imageio.imwrite(os.path.join(png_save_path, 'Patient0_60{}.png'.format(i)), (slice*255).astype(np.uint8))\n",
    "        \n",
    "def all_nii_to_png(all_nii_path,all_image_save_path, axis):\n",
    "    all_nii_path_list = os.listdir(all_nii_path)\n",
    "    for i in range(len(all_nii_path_list)):\n",
    "        nii_to_png(os.path.join(all_nii_path,all_nii_path_list[i]),os.path.join(all_image_save_path, all_nii_path_list[i]), axis)\n",
    "        print(\"第{}个nii文件转换完成！\".format(i))\n",
    "\n",
    "if __name__ == \"__main__\":\n",
    "    all_nii_path = 'D:/Segthordataset/test/Patient_60'\n",
    "    all_image_save_path = 'D:/Segthordataset/test/Patient_60_png'\n",
    "    all_nii_to_png(all_nii_path, all_image_save_path, 'z')\n",
    "\n"
   ]
  }
 ],
 "metadata": {
  "kernelspec": {
   "display_name": "Python 3.7.13 ('pytorch')",
   "language": "python",
   "name": "python3"
  },
  "language_info": {
   "codemirror_mode": {
    "name": "ipython",
    "version": 3
   },
   "file_extension": ".py",
   "mimetype": "text/x-python",
   "name": "python",
   "nbconvert_exporter": "python",
   "pygments_lexer": "ipython3",
   "version": "3.7.13"
  },
  "orig_nbformat": 4,
  "vscode": {
   "interpreter": {
    "hash": "9ebf9cfd872009544a161647ac82c48f4cc096aba58631b69e515c7576d66293"
   }
  }
 },
 "nbformat": 4,
 "nbformat_minor": 2
}
